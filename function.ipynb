{
  "nbformat": 4,
  "nbformat_minor": 0,
  "metadata": {
    "colab": {
      "provenance": []
    },
    "kernelspec": {
      "name": "python3",
      "display_name": "Python 3"
    },
    "language_info": {
      "name": "python"
    }
  },
  "cells": [
    {
      "cell_type": "markdown",
      "source": [
        "#Theory Questions:\n",
        "\n",
        "#1. What is the difference between a function and a method in Python?\n",
        "\n",
        "Function: A block of reusable code that performs a specific task. Defined using def.\n",
        "\n",
        "   Method: A function that is associated with an object (usually a class instance).\n",
        "   \n",
        "   Exemple_Q-1\n"
      ],
      "metadata": {
        "id": "uEkZTfTasmLi"
      }
    },
    {
      "cell_type": "code",
      "execution_count": null,
      "metadata": {
        "id": "VbxipQNJnyYU"
      },
      "outputs": [],
      "source": [
        "# Function\n",
        "def greet(name):\n",
        "    return \"Hello \" + name\n",
        "\n",
        "# Method\n",
        "my_list = [1, 2, 3]\n",
        "my_list.append(4)  # append() is a method\n"
      ]
    },
    {
      "cell_type": "markdown",
      "source": [
        "#2. Explain the concept of function arguments and parameters in Python.\n",
        "Parameters: Variables listed in the function definition.\n",
        "\n",
        "Arguments: Actual values passed to the function when calling it.\n",
        "\n",
        "Exemple_Q-2"
      ],
      "metadata": {
        "id": "-kh96S_OvgYK"
      }
    },
    {
      "cell_type": "code",
      "source": [
        "def add(a, b):  # a and b are parameters\n",
        "    return a + b\n",
        "\n",
        "add(3, 5)  # 3 and 5 are arguments\n"
      ],
      "metadata": {
        "colab": {
          "base_uri": "https://localhost:8080/"
        },
        "id": "ZYbz8wT0wEex",
        "outputId": "bd878092-3139-47f7-8100-8c6b533674be"
      },
      "execution_count": null,
      "outputs": [
        {
          "output_type": "execute_result",
          "data": {
            "text/plain": [
              "8"
            ]
          },
          "metadata": {},
          "execution_count": 3
        }
      ]
    },
    {
      "cell_type": "markdown",
      "source": [
        "# 3. What are the different ways to define and call a function in Python?\n",
        "Define using def or lambda.\n",
        "\n",
        "Call using the function name followed by parentheses and arguments.\n",
        "\n",
        "Exemple_Q-3"
      ],
      "metadata": {
        "id": "F1aGEd06wMNR"
      }
    },
    {
      "cell_type": "code",
      "source": [
        "# Normal function\n",
        "def square(x):\n",
        "    return x * x\n",
        "print(square(5))\n",
        "\n",
        "# Lambda function\n",
        "sq = lambda x: x * x\n",
        "print(sq(5))\n"
      ],
      "metadata": {
        "colab": {
          "base_uri": "https://localhost:8080/"
        },
        "id": "-UkR5MVtwLX4",
        "outputId": "1484cea0-888a-45da-e910-40b2b32f113f"
      },
      "execution_count": null,
      "outputs": [
        {
          "output_type": "stream",
          "name": "stdout",
          "text": [
            "25\n",
            "25\n"
          ]
        }
      ]
    },
    {
      "cell_type": "markdown",
      "source": [
        "# 4. What is the purpose of the return statement in a Python function?\n",
        "It ends the function execution and sends the result back to the caller.\n",
        "\n",
        "Exemple_Q-4"
      ],
      "metadata": {
        "id": "76ldlI595tEX"
      }
    },
    {
      "cell_type": "code",
      "source": [
        "def add(x, y):\n",
        "    return x + y\n",
        "result = add(2, 3)\n",
        "print(result)\n"
      ],
      "metadata": {
        "colab": {
          "base_uri": "https://localhost:8080/"
        },
        "id": "O0IF84nG6IYv",
        "outputId": "c8dc5538-81ab-467c-c8a4-77347ef803f1"
      },
      "execution_count": null,
      "outputs": [
        {
          "output_type": "stream",
          "name": "stdout",
          "text": [
            "5\n"
          ]
        }
      ]
    },
    {
      "cell_type": "markdown",
      "source": [
        "# 5. What are iterators in Python and how do they differ from iterables?\n",
        "Iterable: An object that can return an iterator (like a list).\n",
        "\n",
        "Iterator: An object with __next__() method to get next item.\n",
        "\n",
        "Exemple_Q-5"
      ],
      "metadata": {
        "id": "t4EtwFkh6W-m"
      }
    },
    {
      "cell_type": "code",
      "source": [
        "my_list = [1, 2, 3]  # Iterable\n",
        "my_iter = iter(my_list)  # Iterator\n",
        "print(next(my_iter))\n"
      ],
      "metadata": {
        "colab": {
          "base_uri": "https://localhost:8080/"
        },
        "id": "5IUf7Sw26vfA",
        "outputId": "330c3a04-25b1-421f-e662-d3aada5911ce"
      },
      "execution_count": null,
      "outputs": [
        {
          "output_type": "stream",
          "name": "stdout",
          "text": [
            "1\n"
          ]
        }
      ]
    },
    {
      "cell_type": "markdown",
      "source": [
        "# 6. Explain the concept of generators in Python and how they are defined.\n",
        "Generators are functions that yield values one at a time using yield.\n",
        "\n",
        "Exemple_Q-6"
      ],
      "metadata": {
        "id": "ieJG6rYB7HHn"
      }
    },
    {
      "cell_type": "code",
      "source": [
        "def countdown(n):\n",
        "    while n > 0:\n",
        "        yield n\n",
        "        n -= 1\n",
        "\n",
        "for i in countdown(3):\n",
        "    print(i)\n"
      ],
      "metadata": {
        "colab": {
          "base_uri": "https://localhost:8080/"
        },
        "id": "51j7F4Dx6_jX",
        "outputId": "fedf95e7-9aff-4cb6-a3cd-878ab1e46de4"
      },
      "execution_count": null,
      "outputs": [
        {
          "output_type": "stream",
          "name": "stdout",
          "text": [
            "3\n",
            "2\n",
            "1\n"
          ]
        }
      ]
    },
    {
      "cell_type": "markdown",
      "source": [
        "# 7. What are the advantages of using generators over regular functions?\n",
        "Save memory using lazy evaluation.\n",
        "\n",
        "Efficient for large datasets.\n",
        "\n",
        "Don't store all values in memory.\n",
        "\n",
        "Exemple_Q-7"
      ],
      "metadata": {
        "id": "InQfso7J7lT-"
      }
    },
    {
      "cell_type": "code",
      "source": [
        "def big_gen():\n",
        "    for i in range(1000000):\n",
        "        yield i\n"
      ],
      "metadata": {
        "id": "dgFbze-Y8ID2"
      },
      "execution_count": null,
      "outputs": []
    },
    {
      "cell_type": "markdown",
      "source": [
        "#8. What is a lambda function in Python and when is it typically used?\n",
        "A lambda is an anonymous, inline function.\n",
        "\n",
        "Exemple_Q-8"
      ],
      "metadata": {
        "id": "J3Q8VV9l8OAm"
      }
    },
    {
      "cell_type": "code",
      "source": [
        "square = lambda x: x ** 2\n",
        "print(square(4))\n"
      ],
      "metadata": {
        "colab": {
          "base_uri": "https://localhost:8080/"
        },
        "id": "YA9y5IVR8rvW",
        "outputId": "776a883e-ed34-4ec8-ca0c-7ff0ff93f1b1"
      },
      "execution_count": null,
      "outputs": [
        {
          "output_type": "stream",
          "name": "stdout",
          "text": [
            "16\n"
          ]
        }
      ]
    },
    {
      "cell_type": "markdown",
      "source": [
        "# 9. Explain the purpose and usage of the map() function in Python.\n",
        "Applies a function to all items in an iterable\n",
        "\n",
        "Exemple_Q-9"
      ],
      "metadata": {
        "id": "0LZkJJDd9RWW"
      }
    },
    {
      "cell_type": "code",
      "source": [
        "nums = [1, 2, 3, 4]\n",
        "squared = map(lambda x: x**2, nums)\n",
        "print(list(squared))  # Output: [1, 4, 9, 16]\n"
      ],
      "metadata": {
        "colab": {
          "base_uri": "https://localhost:8080/"
        },
        "id": "8W6fIwil9g12",
        "outputId": "f08673e9-cdaf-4fd7-d171-083290c36817"
      },
      "execution_count": null,
      "outputs": [
        {
          "output_type": "stream",
          "name": "stdout",
          "text": [
            "[1, 4, 9, 16]\n"
          ]
        }
      ]
    },
    {
      "cell_type": "markdown",
      "source": [
        "#10. What is the difference between map(), reduce(), and filter() functions in Python?\n",
        "\n",
        "map()\n",
        "\n",
        "Applies function to each element\n",
        "\n",
        "map(lambda x: x*2, [1,2,3]) → [2,4,6]\n",
        "\n",
        "filter()\n",
        "\n",
        "Filters elements based on condition\n",
        "\n",
        "filter(lambda x: x%2==0, [1,2,3,4]) → [2,4]\n",
        "\n",
        "\n",
        "reduce()\n",
        "\n",
        "Applies function cumulatively to reduce to single value. reduce() is in functools module.\n",
        "\n",
        "reduce(lambda x,y: x+y, [1,2,3,4]) → 10\n"
      ],
      "metadata": {
        "id": "9mMzI9qW9rcG"
      }
    },
    {
      "cell_type": "markdown",
      "source": [
        "#11. Using pen & Paper write the internal mechanism for sum operation using  reduce function on this given\n",
        "\n",
        "Given list: list = [47, 11, 42, 13]\n",
        "\n",
        "Exemple_Q-11\n"
      ],
      "metadata": {
        "id": "QmcUBJgU-gu2"
      }
    },
    {
      "cell_type": "code",
      "source": [
        "from functools import reduce\n",
        "reduce (lambda x, y: x + y, [47, 11, 42, 13])\n"
      ],
      "metadata": {
        "colab": {
          "base_uri": "https://localhost:8080/"
        },
        "id": "2dUt2kDso4FX",
        "outputId": "06c86f0a-9589-44da-c6d2-2808e7483a09"
      },
      "execution_count": null,
      "outputs": [
        {
          "output_type": "execute_result",
          "data": {
            "text/plain": [
              "113"
            ]
          },
          "metadata": {},
          "execution_count": 12
        }
      ]
    },
    {
      "cell_type": "markdown",
      "source": [
        "#Practical Questions:"
      ],
      "metadata": {
        "id": "gPsf29i4povG"
      }
    },
    {
      "cell_type": "markdown",
      "source": [
        "1. Write a Python function that takes a list of numbers as input and returns the sum of all even numbers in\n",
        "the list"
      ],
      "metadata": {
        "id": "0mvZjYJMqecu"
      }
    },
    {
      "cell_type": "code",
      "source": [
        "def even(n):\n",
        "    return sum(filter(lambda x:x%2==0,n))\n",
        "\n",
        "x=even([1,2,3,4,5,6])\n",
        "print(x)\n",
        "\n",
        "# def sum_even_numbers(numbers):\n",
        "#     return sum(num for num in numbers if num % 2 == 0)\n",
        "\n",
        "# print(sum_even_numbers([1, 2, 3, 4, 5, 6]))\n"
      ],
      "metadata": {
        "colab": {
          "base_uri": "https://localhost:8080/"
        },
        "id": "OYRts8mSqmsu",
        "outputId": "cbdee26f-9398-4a42-877b-ea24095f7542"
      },
      "execution_count": null,
      "outputs": [
        {
          "output_type": "stream",
          "name": "stdout",
          "text": [
            "12\n"
          ]
        }
      ]
    },
    {
      "cell_type": "markdown",
      "source": [
        "2. Create a Python function that accepts a string and returns the reverse of that string."
      ],
      "metadata": {
        "id": "-s8Gdx5YvmkN"
      }
    },
    {
      "cell_type": "code",
      "source": [
        "def s(n):\n",
        "   return n[::-1]\n",
        "\n",
        "print(s(\"soujit\"))"
      ],
      "metadata": {
        "colab": {
          "base_uri": "https://localhost:8080/"
        },
        "id": "2l_w-gCcvjLF",
        "outputId": "f45e4fb5-05b7-4a06-dd04-eb1bdaad8bb9"
      },
      "execution_count": null,
      "outputs": [
        {
          "output_type": "stream",
          "name": "stdout",
          "text": [
            "tijuos\n"
          ]
        }
      ]
    },
    {
      "cell_type": "markdown",
      "source": [
        "3. Implement a Python function that takes a list of integers and returns a new list containing the squares of\n",
        "each number."
      ],
      "metadata": {
        "id": "mjaRWzByxtos"
      }
    },
    {
      "cell_type": "code",
      "source": [
        "def square_list(numbers):\n",
        "    return [num ** 2 for num in numbers]\n",
        "\n",
        "# Example\n",
        "print(square_list([1, 2, 3, 4]))\n"
      ],
      "metadata": {
        "colab": {
          "base_uri": "https://localhost:8080/"
        },
        "id": "U36GBy7rx0DE",
        "outputId": "ff32a627-ef3e-40d9-effe-7bc8e98df75d"
      },
      "execution_count": null,
      "outputs": [
        {
          "output_type": "stream",
          "name": "stdout",
          "text": [
            "[1, 4, 9, 16]\n"
          ]
        }
      ]
    },
    {
      "cell_type": "markdown",
      "source": [
        "4. Write a Python function that checks if a given number is prime or not from 1 to 200."
      ],
      "metadata": {
        "id": "IjbVpjlYYJaM"
      }
    },
    {
      "cell_type": "code",
      "source": [
        "def is_prime(n):\n",
        "    if n <= 1:\n",
        "        return False\n",
        "    for i in range(2, n):\n",
        "        if n % i == 0:\n",
        "            return False\n",
        "    return True\n",
        "\n",
        "prime_numbers = [n for n in range(1, 201) if is_prime(n)]\n",
        "print(prime_numbers)\n"
      ],
      "metadata": {
        "colab": {
          "base_uri": "https://localhost:8080/"
        },
        "id": "KOtBwy2arOg1",
        "outputId": "44904805-bd54-4202-e3da-6c2f795d8e87"
      },
      "execution_count": 39,
      "outputs": [
        {
          "output_type": "stream",
          "name": "stdout",
          "text": [
            "[2, 3, 5, 7, 11, 13, 17, 19, 23, 29, 31, 37, 41, 43, 47, 53, 59, 61, 67, 71, 73, 79, 83, 89, 97, 101, 103, 107, 109, 113, 127, 131, 137, 139, 149, 151, 157, 163, 167, 173, 179, 181, 191, 193, 197, 199]\n"
          ]
        }
      ]
    },
    {
      "cell_type": "markdown",
      "source": [
        "5. Create an iterator class in Python that generates the Fibonacci sequence up to a specified number of\n",
        "terms."
      ],
      "metadata": {
        "id": "UqvvD783GCZh"
      }
    },
    {
      "cell_type": "code",
      "source": [
        "class Fibonacci:\n",
        "    def __init__(self, max_terms):\n",
        "        self.max_terms = max_terms\n",
        "        self.a, self.b = 0, 1\n",
        "        self.count = 0\n",
        "\n",
        "    def __iter__(self):\n",
        "        return self\n",
        "\n",
        "    def __next__(self):\n",
        "        if self.count >= self.max_terms:\n",
        "            raise StopIteration\n",
        "        value = self.a\n",
        "        self.a, self.b = self.b, self.a + self.b\n",
        "        self.count += 1\n",
        "        return value\n",
        "\n",
        "for num in Fibonacci(10):\n",
        "    print(num, end=\" \")\n"
      ],
      "metadata": {
        "id": "N0P81TTdGG8Q"
      },
      "execution_count": null,
      "outputs": []
    },
    {
      "cell_type": "markdown",
      "source": [
        "6. Write a generator function in Python that yields the powers of 2 up to a given exponent."
      ],
      "metadata": {
        "id": "SHwURCa7IJhb"
      }
    },
    {
      "cell_type": "code",
      "source": [
        "def powers_of_two(n):\n",
        "    for i in range(n + 1):\n",
        "        yield 2 ** i\n",
        "\n",
        "# Example\n",
        "for p in powers_of_two(5):\n",
        "    print(p)\n"
      ],
      "metadata": {
        "colab": {
          "base_uri": "https://localhost:8080/"
        },
        "id": "AuImO9Y7IDEU",
        "outputId": "4b891288-953a-47e8-f388-ebfe222d586e"
      },
      "execution_count": 64,
      "outputs": [
        {
          "output_type": "stream",
          "name": "stdout",
          "text": [
            "1\n",
            "2\n",
            "4\n",
            "8\n",
            "16\n",
            "32\n"
          ]
        }
      ]
    },
    {
      "cell_type": "markdown",
      "source": [
        "7. Implement a generator function that reads a file line by line and yields each line as a string."
      ],
      "metadata": {
        "id": "kfK2Mc7dIagT"
      }
    },
    {
      "cell_type": "code",
      "source": [
        "def read_file_lines(filename):\n",
        "    with open(filename, 'r') as file:\n",
        "        for line in file:\n",
        "            yield line.strip()\n",
        "\n",
        "\n"
      ],
      "metadata": {
        "id": "KlL8EHtpIbhL"
      },
      "execution_count": 65,
      "outputs": []
    },
    {
      "cell_type": "markdown",
      "source": [
        "8. Use a lambda function in Python to sort a list of tuples based on the second element of each tuple."
      ],
      "metadata": {
        "id": "t4L6asUAJF1T"
      }
    },
    {
      "cell_type": "code",
      "source": [
        "data = [(1, 3), (2, 1), (4, 2)]\n",
        "sorted_data = sorted(data, key=lambda x: x[1])\n",
        "print(sorted_data)\n"
      ],
      "metadata": {
        "colab": {
          "base_uri": "https://localhost:8080/"
        },
        "id": "bWQU0IhKIm6j",
        "outputId": "622533a1-18f1-4eed-c4ba-a783bcd2cee0"
      },
      "execution_count": 66,
      "outputs": [
        {
          "output_type": "stream",
          "name": "stdout",
          "text": [
            "[(2, 1), (4, 2), (1, 3)]\n"
          ]
        }
      ]
    },
    {
      "cell_type": "markdown",
      "source": [
        "9. Write a Python program that uses map() to convert a list of temperatures from Celsius to Fahrenheit."
      ],
      "metadata": {
        "id": "C5LNaWpDJHsL"
      }
    },
    {
      "cell_type": "code",
      "source": [
        "celsius = [0, 10, 20, 30]\n",
        "fahrenheit = list(map(lambda c: (c * 9/5) + 32, celsius))\n",
        "print(fahrenheit)\n"
      ],
      "metadata": {
        "colab": {
          "base_uri": "https://localhost:8080/"
        },
        "id": "0LKvolQoIsXT",
        "outputId": "46236ed5-3103-4e60-aca3-08ba1b8604b4"
      },
      "execution_count": 67,
      "outputs": [
        {
          "output_type": "stream",
          "name": "stdout",
          "text": [
            "[32.0, 50.0, 68.0, 86.0]\n"
          ]
        }
      ]
    },
    {
      "cell_type": "markdown",
      "source": [
        "10. Create a Python program that uses filter() to remove all the vowels from a given string."
      ],
      "metadata": {
        "id": "GVkr5AvuJN-7"
      }
    },
    {
      "cell_type": "code",
      "source": [
        "def remove_vowels(s):\n",
        "    return ''.join(filter(lambda x: x.lower() not in 'aeiou', s))\n",
        "\n",
        "\n",
        "print(remove_vowels(\"Hello World\"))\n"
      ],
      "metadata": {
        "id": "Y9xc4sRKI50c"
      },
      "execution_count": null,
      "outputs": []
    }
  ]
}